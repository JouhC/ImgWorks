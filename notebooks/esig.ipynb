{
 "cells": [
  {
   "cell_type": "code",
   "execution_count": 5,
   "id": "50dd1726",
   "metadata": {},
   "outputs": [
    {
     "name": "stdout",
     "output_type": "stream",
     "text": [
      "Saved: signature_clean.png\n"
     ]
    },
    {
     "name": "stderr",
     "output_type": "stream",
     "text": [
      "/tmp/ipykernel_3951/1307290735.py:51: DeprecationWarning: 'mode' parameter is deprecated and will be removed in Pillow 13 (2026-10-15)\n",
      "  Image.fromarray(rgba, mode='RGBA').save(out_png_path)\n"
     ]
    }
   ],
   "source": [
    "import cv2, numpy as np\n",
    "from skimage import filters, restoration, morphology, exposure\n",
    "from PIL import Image\n",
    "\n",
    "def load_gray(path):\n",
    "    img = cv2.imread(path, cv2.IMREAD_GRAYSCALE)\n",
    "    if img is None: raise FileNotFoundError(path)\n",
    "    return img\n",
    "\n",
    "def deskew(img):\n",
    "    # compute skew via Hough on edges\n",
    "    edges = cv2.Canny(img, 50, 150)\n",
    "    lines = cv2.HoughLines(edges, 1, np.pi/180, 150)\n",
    "    if lines is None: return img\n",
    "    angles = []\n",
    "    for rho, theta in lines[:,0]:\n",
    "        angle = (theta*180/np.pi) - 90\n",
    "        if -30 < angle < 30:\n",
    "            angles.append(angle)\n",
    "    if not angles: return img\n",
    "    angle = np.median(angles)\n",
    "    (h,w) = img.shape\n",
    "    M = cv2.getRotationMatrix2D((w//2,h//2), angle, 1.0)\n",
    "    return cv2.warpAffine(img, M, (w,h), flags=cv2.INTER_CUBIC, borderMode=cv2.BORDER_REPLICATE)\n",
    "\n",
    "def enhance_to_mask(img):\n",
    "    # smooth noise but preserve edges\n",
    "    den = cv2.bilateralFilter(img, d=7, sigmaColor=35, sigmaSpace=35)\n",
    "    # increase contrast\n",
    "    den = exposure.rescale_intensity(den)\n",
    "    # adaptive threshold (Sauvola works great on paper)\n",
    "    thr = filters.threshold_sauvola(den, window_size=41, k=0.2)\n",
    "    mask = (den < thr).astype(np.uint8)  # signature as 1s\n",
    "    # remove small specks, close gaps\n",
    "    mask = morphology.remove_small_objects(mask.astype(bool), min_size=40)\n",
    "    mask = morphology.binary_closing(mask, morphology.disk(1))\n",
    "    #mask = morphology.thin(mask)  # optional slight thinning\n",
    "    return (mask*255).astype(np.uint8)\n",
    "\n",
    "def unsharp(img):\n",
    "    blur = cv2.GaussianBlur(img, (0,0), sigmaX=1.0)\n",
    "    sharp = cv2.addWeighted(img, 1.6, blur, -0.6, 0)\n",
    "    return sharp\n",
    "\n",
    "def save_transparent(signature_mask, out_png_path, stroke_color=(0,0,0)):\n",
    "    # mask is white where ink; create RGBA with transparent bg\n",
    "    h,w = signature_mask.shape\n",
    "    rgba = np.zeros((h,w,4), dtype=np.uint8)\n",
    "    rgba[..., :3] = stroke_color  # black\n",
    "    rgba[..., 3] = signature_mask  # alpha from mask\n",
    "    Image.fromarray(rgba, mode='RGBA').save(out_png_path)\n",
    "\n",
    "def process(in_path, out_path=\"signature_clean.png\"):\n",
    "    img = load_gray(in_path)\n",
    "    img = deskew(img)\n",
    "    mask = enhance_to_mask(img)\n",
    "    mask = unsharp(mask)\n",
    "    save_transparent(mask, out_path)\n",
    "    print(f\"Saved: {out_path}\")\n",
    "\n",
    "process(\"IMG_1675.jpg\", \"signature_clean.png\")\n"
   ]
  }
 ],
 "metadata": {
  "kernelspec": {
   "display_name": ".venv (3.13.4)",
   "language": "python",
   "name": "python3"
  },
  "language_info": {
   "codemirror_mode": {
    "name": "ipython",
    "version": 3
   },
   "file_extension": ".py",
   "mimetype": "text/x-python",
   "name": "python",
   "nbconvert_exporter": "python",
   "pygments_lexer": "ipython3",
   "version": "3.13.4"
  }
 },
 "nbformat": 4,
 "nbformat_minor": 5
}
